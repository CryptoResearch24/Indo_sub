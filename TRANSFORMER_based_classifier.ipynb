{
  "cells": [
    {
      "cell_type": "code",
      "execution_count": null,
      "metadata": {},
      "outputs": [],
      "source": [
        "import os\n",
        "os.environ['TF_CPP_MIN_LOG_LEVEL'] = '2'  # or any {'0', '1', '2'}"
      ]
    },
    {
      "cell_type": "code",
      "execution_count": null,
      "metadata": {
        "id": "xIbnsT1oqlTd"
      },
      "outputs": [],
      "source": [
        "import tensorflow as tf\n",
        "import matplotlib.pyplot as plt\n",
        "import numpy as np\n",
        "import pandas as pd\n",
        "from imblearn.under_sampling import RandomUnderSampler"
      ]
    },
    {
      "cell_type": "code",
      "execution_count": null,
      "metadata": {
        "id": "VJki6g9I8pQ5"
      },
      "outputs": [],
      "source": [
        "n_rounds= 11"
      ]
    },
    {
      "cell_type": "code",
      "execution_count": null,
      "metadata": {
        "colab": {
          "base_uri": "https://localhost:8080/"
        },
        "id": "HPscQ8W9rLiS",
        "outputId": "7b45acf7-8574-47e8-db5d-acf484d79b0a"
      },
      "outputs": [],
      "source": [
        "file_path = f'./Data/2class_HIGHT_round{n_rounds}_new.csv'"
      ]
    },
    {
      "cell_type": "code",
      "execution_count": null,
      "metadata": {
        "id": "cDgJXR3eqlTf"
      },
      "outputs": [],
      "source": [
        "dataset= pd.read_csv(file_path, header= None)"
      ]
    },
    {
      "cell_type": "code",
      "execution_count": null,
      "metadata": {
        "colab": {
          "base_uri": "https://localhost:8080/",
          "height": 424
        },
        "id": "r20gOnLrqlTg",
        "outputId": "5d7f141c-73d6-4df0-a44a-4148245023b8"
      },
      "outputs": [],
      "source": [
        "dataset"
      ]
    },
    {
      "cell_type": "code",
      "execution_count": null,
      "metadata": {
        "id": "b6IY-DkuqlTg"
      },
      "outputs": [],
      "source": [
        "X= dataset.iloc[:, :-1]\n",
        "y= dataset.iloc[:, -1]"
      ]
    },
    {
      "cell_type": "code",
      "execution_count": null,
      "metadata": {
        "id": "moke3XxYqlTh"
      },
      "outputs": [],
      "source": [
        "X=X.values\n",
        "y=y.values"
      ]
    },
    {
      "cell_type": "code",
      "execution_count": null,
      "metadata": {
        "colab": {
          "base_uri": "https://localhost:8080/"
        },
        "id": "c521HMLGqlTh",
        "outputId": "bfc33f46-ab90-46aa-d8bc-7d3ab7400cae"
      },
      "outputs": [],
      "source": [
        "X"
      ]
    },
    {
      "cell_type": "code",
      "execution_count": null,
      "metadata": {
        "colab": {
          "base_uri": "https://localhost:8080/"
        },
        "id": "GK1BjR3PtiEl",
        "outputId": "4a309f5f-a041-4a4e-e7fa-9f63d6040191"
      },
      "outputs": [],
      "source": [
        "y"
      ]
    },
    {
      "cell_type": "code",
      "execution_count": null,
      "metadata": {
        "colab": {
          "base_uri": "https://localhost:8080/"
        },
        "id": "MBqiqXgUqlTh",
        "outputId": "817a950e-b65a-44c3-a198-9207a35b243a"
      },
      "outputs": [],
      "source": [
        "from sklearn.model_selection import train_test_split\n",
        "X_train, X_test, y_train, y_test = train_test_split(X, y, test_size = 0.50, random_state = 20)\n",
        "X_val, X_test, y_val, y_test= train_test_split(X_test, y_test, test_size = 0.40, random_state = 20)\n",
        "print(X_train.shape, y_train.shape)\n",
        "print(X_val.shape, y_val.shape)\n",
        "print(X_test.shape, y_test.shape)"
      ]
    },
    {
      "cell_type": "code",
      "execution_count": null,
      "metadata": {},
      "outputs": [],
      "source": [
        "print(np.unique(y_train, return_counts=True))\n",
        "print(np.unique(y_val, return_counts=True))\n",
        "print(np.unique(y_test, return_counts=True))"
      ]
    },
    {
      "cell_type": "code",
      "execution_count": null,
      "metadata": {
        "id": "-88EA1zNuH8F"
      },
      "outputs": [],
      "source": [
        "class TransformerBlock(tf.keras.layers.Layer):\n",
        "    def __init__(self, dim_e, n_attn, d_units, rate=0.1):\n",
        "        super().__init__()\n",
        "        self.attention = tf.keras.layers.MultiHeadAttention(num_heads=n_attn, key_dim=dim_e)\n",
        "        self.denselayer = tf.keras.Sequential(\n",
        "            [tf.keras.layers.Dense(d_units, activation=\"relu\"), \n",
        "             tf.keras.layers.Dense(dim_e)]\n",
        "        )\n",
        "        self.norm_1 = tf.keras.layers.LayerNormalization(epsilon=1e-5)\n",
        "        self.norm_2 = tf.keras.layers.LayerNormalization(epsilon=1e-5)\n",
        "        self.dropout_1 = tf.keras.layers.Dropout(rate)\n",
        "        self.dropout_2 = tf.keras.layers.Dropout(rate)\n",
        "\n",
        "    def call(self, sequence):\n",
        "        attention = self.attention(sequence, sequence)\n",
        "        attention = self.dropout_1(attention)\n",
        "        ln = self.norm_1(sequence + attention)\n",
        "        dense_trans = self.denselayer(ln)\n",
        "        dense_trans = self.dropout_2(dense_trans)\n",
        "        return self.norm_2(ln + dense_trans)\n"
      ]
    },
    {
      "cell_type": "code",
      "execution_count": null,
      "metadata": {},
      "outputs": [],
      "source": [
        "vocabulary = 256\n",
        "seq_length = 24"
      ]
    },
    {
      "cell_type": "code",
      "execution_count": null,
      "metadata": {
        "id": "gVcqkOxJuI1g"
      },
      "outputs": [],
      "source": [
        "class EmbeddingBlock(tf.keras.layers.Layer):\n",
        "    def __init__(self, seq_length, vocabulary, dim_e):\n",
        "        super().__init__()\n",
        "        self.e_token = tf.keras.layers.Embedding(input_dim=vocabulary, output_dim=dim_e) #token embedding\n",
        "        self.e_pos = tf.keras.layers.Embedding(input_dim=seq_length, output_dim=dim_e) #position embedding\n",
        "\n",
        "    def call(self, t):\n",
        "        size = np.shape(t)[-1]\n",
        "        index = np.arange(start=0, stop=size, step=1)\n",
        "        index = self.e_pos(index)\n",
        "        t = self.e_token(t)\n",
        "        return t + index\n",
        "    "
      ]
    },
    {
      "cell_type": "code",
      "execution_count": null,
      "metadata": {
        "id": "0X0HOOKxuUj-"
      },
      "outputs": [],
      "source": [
        "\n",
        "dim_e = 150  # Embedding size for each token\n",
        "n_attn =  15  # Number of attention heads\n",
        "d_units= 150     # Hidden layer size in feed forward network inside transformer\n",
        "\n",
        "seq_input = tf.keras.layers.Input(shape=(seq_length,))\n",
        "embedding_block = EmbeddingBlock(seq_length, vocabulary, dim_e)\n",
        "trans_block = TransformerBlock(dim_e, n_attn, d_units)\n",
        "\n",
        "l = embedding_block(seq_input)\n",
        "l = trans_block(l)\n",
        "l = tf.keras.layers.GlobalAveragePooling1D()(l)\n",
        "l = tf.keras.layers.Dropout(0.1)(l)\n",
        "l = tf.keras.layers.Dense(200, activation=\"relu\")(l)\n",
        "# l = tf.keras.layers.Dense(160, activation=\"relu\")(l)\n",
        "# l = tf.keras.layers.Dense(8, activation=\"relu\")(l)\n",
        "# l = tf.keras.layers.Dropout(0.1)(l)\n",
        "pred_class = tf.keras.layers.Dense(1, activation=\"sigmoid\")(l)\n",
        "\n",
        "model = tf.keras.Model(inputs=seq_input, outputs=pred_class)\n"
      ]
    },
    {
      "cell_type": "code",
      "execution_count": null,
      "metadata": {
        "colab": {
          "base_uri": "https://localhost:8080/"
        },
        "id": "O3kT9viyudUF",
        "outputId": "9771f2a2-4220-480e-eb88-0dd53f534f83"
      },
      "outputs": [],
      "source": [
        "from tensorflow.keras.callbacks import EarlyStopping\n",
        "\n",
        "model.compile(optimizer=tf.keras.optimizers.Adam(1e-5), loss=\"binary_crossentropy\", metrics=[\"accuracy\"])\n",
        "history = model.fit(X_train, y_train, batch_size=150,callbacks=[EarlyStopping(monitor=\"val_accuracy\", min_delta= 0.0003, patience= 5, verbose= 0, baseline= None, restore_best_weights= True, start_from_epoch=0)], epochs=600, validation_data=(X_val, y_val))\n"
      ]
    },
    {
      "cell_type": "code",
      "execution_count": null,
      "metadata": {
        "id": "Akl9L9Cj8EFp"
      },
      "outputs": [],
      "source": [
        "from sklearn.metrics import classification_report, confusion_matrix, accuracy_score"
      ]
    },
    {
      "cell_type": "code",
      "execution_count": null,
      "metadata": {
        "colab": {
          "base_uri": "https://localhost:8080/"
        },
        "id": "yi3s1Q7a8MN1",
        "outputId": "46a97137-41b0-45e0-ea4a-9ec5ff3786f9"
      },
      "outputs": [],
      "source": [
        "preds_test = model.predict(X_test)\n",
        "preds_train= model.predict(X_train)"
      ]
    },
    {
      "cell_type": "code",
      "execution_count": null,
      "metadata": {
        "id": "RcEBbLDq8StZ"
      },
      "outputs": [],
      "source": [
        "for i in range(len(preds_test)):\n",
        "    preds_test[i] = 1 if (preds_test[i]>=0.5) else 0\n",
        "\n",
        "for i in range(len(preds_train)):\n",
        "    preds_train[i] = 1 if (preds_train[i]>=0.5) else 0   "
      ]
    },
    {
      "cell_type": "code",
      "execution_count": null,
      "metadata": {},
      "outputs": [],
      "source": [
        "preds_train"
      ]
    },
    {
      "cell_type": "code",
      "execution_count": null,
      "metadata": {},
      "outputs": [],
      "source": [
        "preds_test"
      ]
    },
    {
      "cell_type": "code",
      "execution_count": null,
      "metadata": {
        "colab": {
          "base_uri": "https://localhost:8080/"
        },
        "id": "8Tr0UNeN8YA8",
        "outputId": "07d5f51b-26c4-48b3-d4d9-d6e7938b503b"
      },
      "outputs": [],
      "source": [
        "print(f\"{accuracy_score(y_train, preds_train) = }\")\n",
        "print(f\"{accuracy_score(y_test, preds_test) = }\")"
      ]
    },
    {
      "cell_type": "code",
      "execution_count": null,
      "metadata": {
        "id": "w1XwpICNMYM2"
      },
      "outputs": [],
      "source": [
        "import matplotlib.pyplot as plt"
      ]
    },
    {
      "cell_type": "code",
      "execution_count": null,
      "metadata": {
        "colab": {
          "base_uri": "https://localhost:8080/",
          "height": 472
        },
        "id": "_lOoMlpbMYqa",
        "outputId": "336840a5-882a-42ff-e31f-1c8ffb3a3af4"
      },
      "outputs": [],
      "source": [
        "# summarize history for accuracy\n",
        "plt.plot(history.history['accuracy'])\n",
        "plt.plot(history.history['val_accuracy'])\n",
        "plt.title('Model Accuracy')\n",
        "plt.ylabel('accuracy')\n",
        "plt.xlabel('epoch')\n",
        "plt.legend(['train', 'validation'], loc='upper left')\n",
        "plt.show()\n"
      ]
    },
    {
      "cell_type": "code",
      "execution_count": null,
      "metadata": {
        "colab": {
          "base_uri": "https://localhost:8080/",
          "height": 472
        },
        "id": "udtVwRAlMc1J",
        "outputId": "7c49d9b1-44de-456f-ab3c-76ea6629530a"
      },
      "outputs": [],
      "source": [
        "# summarize history for loss\n",
        "plt.plot(history.history['loss'])\n",
        "plt.plot(history.history['val_loss'])\n",
        "plt.title('Model Loss')\n",
        "plt.ylabel('loss')\n",
        "plt.xlabel('epoch')\n",
        "plt.legend(['train', 'validation'], loc='upper left')\n",
        "plt.show()"
      ]
    },
    {
      "cell_type": "code",
      "execution_count": null,
      "metadata": {},
      "outputs": [],
      "source": [
        "from sklearn import metrics\n",
        "matrix = metrics.confusion_matrix(y_test[:len(preds_test)], preds_test)\n",
        "print(matrix)"
      ]
    },
    {
      "cell_type": "code",
      "execution_count": null,
      "metadata": {},
      "outputs": [],
      "source": [
        "TP=matrix[0][0]\n",
        "FN=matrix[0][1]\n",
        "FP=matrix[1][0]\n",
        "TN=matrix[1][1]\n",
        "TPR=TP/(TP+FN)\n",
        "print(f'TPR={TPR}')\n",
        "TNR=TN/(TN+FP)\n",
        "print(f'TNR={TNR}')"
      ]
    }
  ],
  "metadata": {
    "accelerator": "GPU",
    "colab": {
      "gpuType": "T4",
      "provenance": []
    },
    "kernelspec": {
      "display_name": "Python 3",
      "name": "python3"
    },
    "language_info": {
      "codemirror_mode": {
        "name": "ipython",
        "version": 3
      },
      "file_extension": ".py",
      "mimetype": "text/x-python",
      "name": "python",
      "nbconvert_exporter": "python",
      "pygments_lexer": "ipython3",
      "version": "3.12.3"
    }
  },
  "nbformat": 4,
  "nbformat_minor": 0
}
